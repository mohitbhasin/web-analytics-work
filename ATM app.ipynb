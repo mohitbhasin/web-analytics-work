{
 "metadata": {
  "name": "",
  "signature": "sha256:47c938ce3514b664b3a1a309f589cfa8d9bc50c9f079365cdac5e7271cf37a8f"
 },
 "nbformat": 3,
 "nbformat_minor": 0,
 "worksheets": [
  {
   "cells": [
    {
     "cell_type": "code",
     "collapsed": false,
     "input": [
      "#Prepared by MOHIT BHASIN\n",
      "#CWID - 1040011\n",
      "#Assignment week 2. Modularizing ATM Transaction example.\n",
      "\n",
      "''' This function will take actual username and pin as arguments from main function.\n",
      "    Then prints a welcome message with the username and ask user to enter pin.\n",
      "    finally calls authentication function.'''\n",
      "def welcome(user_name,user_pin):\n",
      "    print(\"Welcome {}\".format(user_name))\n",
      "    PIN_attempt = raw_input(\"Hi, Enter your PIN: \")\n",
      "    entered_pin = int(PIN_attempt) \n",
      "    if not authentication(user_pin,entered_pin):\n",
      "        return False\n",
      "    else:        \n",
      "        return True\n",
      "\n",
      "'''This function will check whether entered pin matches actual pin or not.\n",
      "   if matches print sucess else Invalid PIN '''\n",
      "def authentication(user_pin,entered_pin):\n",
      "    if  entered_pin == user_pin:\n",
      "        print(\"Sucess\")\n",
      "        return True\n",
      "    else:\n",
      "        print(\"Invalid PIN\")\n",
      "        return False\n",
      "\n",
      "'''Enter_amount will ask user to input the amount to withdraw and\n",
      "   send the amount along with balance and grace to check_bal function'''    \n",
      "def enter_amount(bal,grace):\n",
      "    amount = raw_input(\"Enter Amount to Withdraw: \")\n",
      "    amount = int(amount)\n",
      "    if not check_bal(amount,bal,grace):\n",
      "       return False\n",
      "    else:\n",
      "        return True\n",
      "\n",
      "'''This function will check whether amount to withdraw is less \n",
      "   than or equal to available balance including grace or not.\n",
      "   If balance is valid then withdraw function is called else \"Not Enough Balance\" is printed'''    \n",
      "def check_bal(amount,user_bal,grace):\n",
      "    if amount <= user_bal* ( 1 + grace):\n",
      "       return withdraw(amount,user_bal)       \n",
      "    else:\n",
      "       print(\"NOT Enough Balance\")\n",
      "       return False \n",
      "    \n",
      "'''This function will subtract the amount to be withdrawn\n",
      "   with available balance and print the new balance'''    \n",
      "def withdraw(amount,bal):\n",
      "    bal = bal - amount\n",
      "    print(\"disbursing {}\".format(amount))\n",
      "    print(\"Remaining Balance {}\".format(bal))\n",
      "    return bal\n",
      "\n",
      "'''Main function has default values of user name, PIN, Balance and Grace.\n",
      "   welcome function is called to authenticate user\n",
      "   and then enter_amount funtion is called for performing transaction'''\n",
      "def main():\n",
      "    user_name = \"Mohit\"\n",
      "    PIN = 5678\n",
      "    bal = 500\n",
      "    grace = 0.1    \n",
      "    if not welcome(user_name, user_PIN):\n",
      "        return False\n",
      "    else:\n",
      "        return enter_amount(bal,grace)\n",
      "    \n",
      "def Tests_for_ATM_simulator():\n",
      "   \"\"\"some tests that anyone can write and provide to the main coder\"\"\"\n",
      "   # With default grace=0, user cannot withdraw more than balance\n",
      "   assert not check_bal(amount=1000.1, user_bal=1000, grace=0)\n",
      "   assert check_bal(amount=1000.1, user_bal=1000, grace=0.1)      \n",
      "   print(\"Tests Passed!\")\n",
      "    \n",
      "if __name__ == \"__main__\": \n",
      "    # Python has an internal variable that indicates whether this has been called as a script or not\n",
      "    import sys # we want this to see what command line options were passed\n",
      "    # sys.argv is a list where first element is the program name and rest are what we pass as arguments\n",
      "    if len(sys.argv) == 2 and sys.argv[1] == \"--test\":  # valid if we run as python ex1.py --test\n",
      "        Tests_for_ATM_simulator()\n",
      "    else:\n",
      "        main()\n",
      "    \n",
      "    "
     ],
     "language": "python",
     "metadata": {},
     "outputs": [
      {
       "output_type": "stream",
       "stream": "stdout",
       "text": [
        "Welcome Mohit\n"
       ]
      },
      {
       "name": "stdout",
       "output_type": "stream",
       "stream": "stdout",
       "text": [
        "Hi, Enter your PIN: 5678\n"
       ]
      },
      {
       "output_type": "stream",
       "stream": "stdout",
       "text": [
        "Sucess\n"
       ]
      },
      {
       "name": "stdout",
       "output_type": "stream",
       "stream": "stdout",
       "text": [
        "Enter Amount to Withdraw: 345\n"
       ]
      },
      {
       "output_type": "stream",
       "stream": "stdout",
       "text": [
        "disbursing 345\n",
        "Remaining Balance 155\n"
       ]
      }
     ],
     "prompt_number": 102
    },
    {
     "cell_type": "code",
     "collapsed": false,
     "input": [],
     "language": "python",
     "metadata": {},
     "outputs": []
    },
    {
     "cell_type": "code",
     "collapsed": false,
     "input": [],
     "language": "python",
     "metadata": {},
     "outputs": []
    }
   ],
   "metadata": {}
  }
 ]
}