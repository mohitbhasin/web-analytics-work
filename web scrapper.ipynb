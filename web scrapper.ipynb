{
 "metadata": {
  "name": "",
  "signature": "sha256:407bc97be8e6d19de570f4f982d6e93fb4034807c1aa45b2e6cf1e3f2433cdde"
 },
 "nbformat": 3,
 "nbformat_minor": 0,
 "worksheets": [
  {
   "cells": [
    {
     "cell_type": "code",
     "collapsed": false,
     "input": [
      "num_revs = 0\n",
      "#get_restaurants will take name of the restaurants from location function\n",
      "#and will create appropriate url and send it to 'print_page' to be use to fetch reviews data.\n",
      "#it will open file in append mode.\n",
      "def get_restaurants(rest,no):\n",
      "    num = int(math.ceil(no/float(40)))\n",
      "    out = open('openTable.txt','a')\n",
      "    url = 'http://www.opentable.com/{0}'\n",
      "    print_page(requests.get(url.format(rest)).text,out,no)\n",
      "    \n",
      "#this will find hotel ID, name, review date, rating and review \n",
      "#and send it to 'write_file' function\n",
      "# 40 reviews per restaurants will be sent, since every page has 40 reviews.\n",
      "def print_page(response,out, no):\n",
      "    html = pq(response)\n",
      "    vals = html('.review')\n",
      "    rest_id = re.search('data-rid=\"(\\d+)\"',str(html('.favorite-button'))).group(1)\n",
      "    restaurant_name = html('.page-header-title').text()\n",
      "    print restaurant_name\n",
      "    num_printed=0\n",
      "    for val in vals:\n",
      "        val_pq = pq(val)\n",
      "        date = str(val_pq('.review-meta').text())\n",
      "        rating = re.search('title=\"(\\d+)\"',str(val_pq('.all-stars'))).group(1)\n",
      "        text = val_pq('.review-content').text()\n",
      "        global num_revs\n",
      "        if num_revs<no:\n",
      "            num_revs += write_file(rest_id, restaurant_name, date, rating, text, out)\n",
      "\n",
      "#This function will write all the reviews to file named 'openTable.txt'         \n",
      "def write_file(rest_id, restaurant_name, date, rating, text, out):\n",
      "    out.write('Restaurant ID: ' + str(rest_id) + '\\n')\n",
      "    out.write('Restaurant Name: ' + restaurant_name.encode(\"utf-8\") + '\\n')\n",
      "    out.write('Review Date: ' + str(date) + '\\n')\n",
      "    out.write('Review rating: ' + str(rating) + '\\n')\n",
      "    out.write('Review Text: ' + text.encode(\"utf-8\") + '\\n\\n')\n",
      "    return 1\n",
      "\n",
      "\n",
      "#location function will take state,city and no(number of reviews) as arguments.\n",
      "#it will find 3 restaurants in the location.\n",
      "#It will pass them to \"print_reviews\" function one at a time.\n",
      "def location(state,city,no):\n",
      "    #creating appropriate url to fetch restaurants on given location.\n",
      "    url='http://www.opentable.com/' + state + '/' + city + '-restaurants'\n",
      "    response = requests.get(url.format('')).text\n",
      "    html = pq(response)\n",
      "    restaurants = html('.content-block-list-row')\n",
      "    count = 0\n",
      "    print 'Location: '+state.upper()+\"-\"+city.upper()+'\\n'\n",
      "    print \"Reviews for restaurants are printed in 'openTable.txt' file\\n\" \n",
      "    print 'Restaurants:\\n------------'\n",
      "    for restaurant in restaurants:\n",
      "        count = count + 1\n",
      "        rest_pq = pq(restaurant)\n",
      "        #this will fetch restaurant name and create appropreate url for that restaurant\n",
      "        #then send it to 'get_restaurants' function.\n",
      "        rest = rest_pq('.rest-row-name').text()\n",
      "        get_restaurants(((rest.replace(\"'\",\"\")).replace(\" \",\"-\")).replace('&',\"and\"),no)\n",
      "        #fetching only 3 restaurants for location\n",
      "        if count == 3:\n",
      "            break\n",
      "            \n",
      "#main function will accept state, city and number of reviews as argument\n",
      "#it will also open the file \"openTable.txt\" in write mode\n",
      "def main(state,city,no):\n",
      "    import requests\n",
      "    import re\n",
      "    import math\n",
      "    from pyquery import PyQuery as pq\n",
      "    open('openTable.txt','w').write('Location: '+state.upper()+\"-\"+city.upper()+'\\n\\n')\n",
      "    location(state,city,no)\n",
      "    \n",
      "main('nj','hoboken',100)"
     ],
     "language": "python",
     "metadata": {},
     "outputs": [
      {
       "output_type": "stream",
       "stream": "stdout",
       "text": [
        "Location: NJ-HOBOKEN\n",
        "\n",
        "Reviews for restaurants are printed in 'openTable.txt' file\n",
        "\n",
        "Restaurants:\n",
        "------------\n",
        "Amanda's Restaurant"
       ]
      },
      {
       "output_type": "stream",
       "stream": "stdout",
       "text": [
        "\n",
        "Bin 14"
       ]
      },
      {
       "output_type": "stream",
       "stream": "stdout",
       "text": [
        "\n",
        "Brasserie De Paris"
       ]
      },
      {
       "output_type": "stream",
       "stream": "stdout",
       "text": [
        "\n"
       ]
      }
     ],
     "prompt_number": 93
    },
    {
     "cell_type": "code",
     "collapsed": false,
     "input": [],
     "language": "python",
     "metadata": {},
     "outputs": [],
     "prompt_number": 92
    },
    {
     "cell_type": "code",
     "collapsed": false,
     "input": [],
     "language": "python",
     "metadata": {},
     "outputs": [],
     "prompt_number": 92
    },
    {
     "cell_type": "code",
     "collapsed": false,
     "input": [],
     "language": "python",
     "metadata": {},
     "outputs": [],
     "prompt_number": 92
    },
    {
     "cell_type": "code",
     "collapsed": false,
     "input": [],
     "language": "python",
     "metadata": {},
     "outputs": [],
     "prompt_number": 220
    },
    {
     "cell_type": "code",
     "collapsed": false,
     "input": [],
     "language": "python",
     "metadata": {},
     "outputs": [],
     "prompt_number": 217
    },
    {
     "cell_type": "code",
     "collapsed": false,
     "input": [],
     "language": "python",
     "metadata": {},
     "outputs": []
    }
   ],
   "metadata": {}
  }
 ]
}